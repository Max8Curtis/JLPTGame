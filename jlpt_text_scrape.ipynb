{
 "cells": [
  {
   "cell_type": "code",
   "execution_count": 1,
   "metadata": {},
   "outputs": [],
   "source": [
    "from bs4 import BeautifulSoup\n",
    "import pandas as pd\n",
    "import numpy as np\n",
    "import requests"
   ]
  },
  {
   "cell_type": "markdown",
   "metadata": {},
   "source": [
    "### Choose JLPT level to scrape"
   ]
  },
  {
   "cell_type": "code",
   "execution_count": 64,
   "metadata": {},
   "outputs": [
    {
     "name": "stdout",
     "output_type": "stream",
     "text": [
      "n1/n2/n3/n4/n5\n",
      "n3 chosen\n"
     ]
    }
   ],
   "source": [
    "BASE_URL = \"https://jlptsensei.com/\"\n",
    "\n",
    "levels = {\"n1\": \"jlpt-n1-grammar-list/\", \"n2\": \"jlpt-n2-grammar-list/\", \"n3\": \"jlpt-n3-grammar-list/\", \"n4\": \"jlpt-n4-grammar-list/\", \"n5\": \"jlpt-n4-grammar-list/\"}\n",
    "\n",
    "print(\"n1/n2/n3/n4/n5\")\n",
    "chosen_level = str(input(\"Choosen JLPT level: \"))\n",
    "print(f\"{chosen_level} chosen\")\n",
    "\n"
   ]
  },
  {
   "cell_type": "markdown",
   "metadata": {},
   "source": [
    "### Grammar scrape"
   ]
  },
  {
   "cell_type": "code",
   "execution_count": 25,
   "metadata": {},
   "outputs": [
    {
     "name": "stdout",
     "output_type": "stream",
     "text": [
      "7\n",
      "['https://jlptsensei.com/learn-japanese-grammar/%e6%95%a2%e3%81%88%e3%81%a6-%e3%81%82%e3%81%88%e3%81%a6-aete-meaning/', 'Learn JLPT N1 Grammar: 敢えて【あえて】(aete) Meaning']\n",
      "['https://jlptsensei.com/learn-japanese-grammar/%e3%81%82%e3%81%8f%e3%81%be%e3%81%a7%e3%82%82-akumade-mo-meaning/', 'Learn JLPT N1 Grammar: あくまでも (akumade mo) Meaning']\n"
     ]
    },
    {
     "ename": "KeyboardInterrupt",
     "evalue": "",
     "output_type": "error",
     "traceback": [
      "\u001b[1;31m---------------------------------------------------------------------------\u001b[0m",
      "\u001b[1;31mKeyboardInterrupt\u001b[0m                         Traceback (most recent call last)",
      "Cell \u001b[1;32mIn[25], line 25\u001b[0m\n\u001b[0;32m     22\u001b[0m \u001b[38;5;28;01mif\u001b[39;00m grammar_table[i][\u001b[38;5;241m1\u001b[39m] \u001b[38;5;241m==\u001b[39m \u001b[38;5;124m\"\u001b[39m\u001b[38;5;124mLearn JLPT N1 Grammar: あくまでも (akumade mo) Meaning\u001b[39m\u001b[38;5;124m\"\u001b[39m:\n\u001b[0;32m     23\u001b[0m     \u001b[38;5;28mprint\u001b[39m(grammar_table[i])\n\u001b[1;32m---> 25\u001b[0m html \u001b[38;5;241m=\u001b[39m \u001b[43mrequests\u001b[49m\u001b[38;5;241;43m.\u001b[39;49m\u001b[43mget\u001b[49m\u001b[43m(\u001b[49m\u001b[43mgrammar_table\u001b[49m\u001b[43m[\u001b[49m\u001b[43mi\u001b[49m\u001b[43m]\u001b[49m\u001b[43m[\u001b[49m\u001b[38;5;241;43m0\u001b[39;49m\u001b[43m]\u001b[49m\u001b[43m)\u001b[49m\n\u001b[0;32m     26\u001b[0m soup \u001b[38;5;241m=\u001b[39m BeautifulSoup(html\u001b[38;5;241m.\u001b[39mtext, \u001b[38;5;124m\"\u001b[39m\u001b[38;5;124mhtml.parser\u001b[39m\u001b[38;5;124m\"\u001b[39m)\n\u001b[0;32m     27\u001b[0m \u001b[38;5;66;03m# if grammar_table[i][1] == \"Learn JLPT N1 Grammar: 敢えて【あえて】(aete) Meaning\":\u001b[39;00m\n\u001b[0;32m     28\u001b[0m \u001b[38;5;66;03m# print(html.text)\u001b[39;00m\n",
      "File \u001b[1;32mc:\\Users\\mcurt\\AppData\\Local\\Programs\\Python\\Python39\\lib\\site-packages\\requests\\api.py:73\u001b[0m, in \u001b[0;36mget\u001b[1;34m(url, params, **kwargs)\u001b[0m\n\u001b[0;32m     62\u001b[0m \u001b[38;5;28;01mdef\u001b[39;00m \u001b[38;5;21mget\u001b[39m(url, params\u001b[38;5;241m=\u001b[39m\u001b[38;5;28;01mNone\u001b[39;00m, \u001b[38;5;241m*\u001b[39m\u001b[38;5;241m*\u001b[39mkwargs):\n\u001b[0;32m     63\u001b[0m \u001b[38;5;250m    \u001b[39m\u001b[38;5;124mr\u001b[39m\u001b[38;5;124;03m\"\"\"Sends a GET request.\u001b[39;00m\n\u001b[0;32m     64\u001b[0m \n\u001b[0;32m     65\u001b[0m \u001b[38;5;124;03m    :param url: URL for the new :class:`Request` object.\u001b[39;00m\n\u001b[1;32m   (...)\u001b[0m\n\u001b[0;32m     70\u001b[0m \u001b[38;5;124;03m    :rtype: requests.Response\u001b[39;00m\n\u001b[0;32m     71\u001b[0m \u001b[38;5;124;03m    \"\"\"\u001b[39;00m\n\u001b[1;32m---> 73\u001b[0m     \u001b[38;5;28;01mreturn\u001b[39;00m request(\u001b[38;5;124m\"\u001b[39m\u001b[38;5;124mget\u001b[39m\u001b[38;5;124m\"\u001b[39m, url, params\u001b[38;5;241m=\u001b[39mparams, \u001b[38;5;241m*\u001b[39m\u001b[38;5;241m*\u001b[39mkwargs)\n",
      "File \u001b[1;32mc:\\Users\\mcurt\\AppData\\Local\\Programs\\Python\\Python39\\lib\\site-packages\\requests\\api.py:59\u001b[0m, in \u001b[0;36mrequest\u001b[1;34m(method, url, **kwargs)\u001b[0m\n\u001b[0;32m     55\u001b[0m \u001b[38;5;66;03m# By using the 'with' statement we are sure the session is closed, thus we\u001b[39;00m\n\u001b[0;32m     56\u001b[0m \u001b[38;5;66;03m# avoid leaving sockets open which can trigger a ResourceWarning in some\u001b[39;00m\n\u001b[0;32m     57\u001b[0m \u001b[38;5;66;03m# cases, and look like a memory leak in others.\u001b[39;00m\n\u001b[0;32m     58\u001b[0m \u001b[38;5;28;01mwith\u001b[39;00m sessions\u001b[38;5;241m.\u001b[39mSession() \u001b[38;5;28;01mas\u001b[39;00m session:\n\u001b[1;32m---> 59\u001b[0m     \u001b[38;5;28;01mreturn\u001b[39;00m session\u001b[38;5;241m.\u001b[39mrequest(method\u001b[38;5;241m=\u001b[39mmethod, url\u001b[38;5;241m=\u001b[39murl, \u001b[38;5;241m*\u001b[39m\u001b[38;5;241m*\u001b[39mkwargs)\n",
      "File \u001b[1;32mc:\\Users\\mcurt\\AppData\\Local\\Programs\\Python\\Python39\\lib\\site-packages\\requests\\sessions.py:589\u001b[0m, in \u001b[0;36mSession.request\u001b[1;34m(self, method, url, params, data, headers, cookies, files, auth, timeout, allow_redirects, proxies, hooks, stream, verify, cert, json)\u001b[0m\n\u001b[0;32m    584\u001b[0m send_kwargs \u001b[38;5;241m=\u001b[39m {\n\u001b[0;32m    585\u001b[0m     \u001b[38;5;124m\"\u001b[39m\u001b[38;5;124mtimeout\u001b[39m\u001b[38;5;124m\"\u001b[39m: timeout,\n\u001b[0;32m    586\u001b[0m     \u001b[38;5;124m\"\u001b[39m\u001b[38;5;124mallow_redirects\u001b[39m\u001b[38;5;124m\"\u001b[39m: allow_redirects,\n\u001b[0;32m    587\u001b[0m }\n\u001b[0;32m    588\u001b[0m send_kwargs\u001b[38;5;241m.\u001b[39mupdate(settings)\n\u001b[1;32m--> 589\u001b[0m resp \u001b[38;5;241m=\u001b[39m \u001b[38;5;28mself\u001b[39m\u001b[38;5;241m.\u001b[39msend(prep, \u001b[38;5;241m*\u001b[39m\u001b[38;5;241m*\u001b[39msend_kwargs)\n\u001b[0;32m    591\u001b[0m \u001b[38;5;28;01mreturn\u001b[39;00m resp\n",
      "File \u001b[1;32mc:\\Users\\mcurt\\AppData\\Local\\Programs\\Python\\Python39\\lib\\site-packages\\requests\\sessions.py:703\u001b[0m, in \u001b[0;36mSession.send\u001b[1;34m(self, request, **kwargs)\u001b[0m\n\u001b[0;32m    700\u001b[0m start \u001b[38;5;241m=\u001b[39m preferred_clock()\n\u001b[0;32m    702\u001b[0m \u001b[38;5;66;03m# Send the request\u001b[39;00m\n\u001b[1;32m--> 703\u001b[0m r \u001b[38;5;241m=\u001b[39m adapter\u001b[38;5;241m.\u001b[39msend(request, \u001b[38;5;241m*\u001b[39m\u001b[38;5;241m*\u001b[39mkwargs)\n\u001b[0;32m    705\u001b[0m \u001b[38;5;66;03m# Total elapsed time of the request (approximately)\u001b[39;00m\n\u001b[0;32m    706\u001b[0m elapsed \u001b[38;5;241m=\u001b[39m preferred_clock() \u001b[38;5;241m-\u001b[39m start\n",
      "File \u001b[1;32mc:\\Users\\mcurt\\AppData\\Local\\Programs\\Python\\Python39\\lib\\site-packages\\requests\\adapters.py:486\u001b[0m, in \u001b[0;36mHTTPAdapter.send\u001b[1;34m(self, request, stream, timeout, verify, cert, proxies)\u001b[0m\n\u001b[0;32m    483\u001b[0m     timeout \u001b[38;5;241m=\u001b[39m TimeoutSauce(connect\u001b[38;5;241m=\u001b[39mtimeout, read\u001b[38;5;241m=\u001b[39mtimeout)\n\u001b[0;32m    485\u001b[0m \u001b[38;5;28;01mtry\u001b[39;00m:\n\u001b[1;32m--> 486\u001b[0m     resp \u001b[38;5;241m=\u001b[39m \u001b[43mconn\u001b[49m\u001b[38;5;241;43m.\u001b[39;49m\u001b[43murlopen\u001b[49m\u001b[43m(\u001b[49m\n\u001b[0;32m    487\u001b[0m \u001b[43m        \u001b[49m\u001b[43mmethod\u001b[49m\u001b[38;5;241;43m=\u001b[39;49m\u001b[43mrequest\u001b[49m\u001b[38;5;241;43m.\u001b[39;49m\u001b[43mmethod\u001b[49m\u001b[43m,\u001b[49m\n\u001b[0;32m    488\u001b[0m \u001b[43m        \u001b[49m\u001b[43murl\u001b[49m\u001b[38;5;241;43m=\u001b[39;49m\u001b[43murl\u001b[49m\u001b[43m,\u001b[49m\n\u001b[0;32m    489\u001b[0m \u001b[43m        \u001b[49m\u001b[43mbody\u001b[49m\u001b[38;5;241;43m=\u001b[39;49m\u001b[43mrequest\u001b[49m\u001b[38;5;241;43m.\u001b[39;49m\u001b[43mbody\u001b[49m\u001b[43m,\u001b[49m\n\u001b[0;32m    490\u001b[0m \u001b[43m        \u001b[49m\u001b[43mheaders\u001b[49m\u001b[38;5;241;43m=\u001b[39;49m\u001b[43mrequest\u001b[49m\u001b[38;5;241;43m.\u001b[39;49m\u001b[43mheaders\u001b[49m\u001b[43m,\u001b[49m\n\u001b[0;32m    491\u001b[0m \u001b[43m        \u001b[49m\u001b[43mredirect\u001b[49m\u001b[38;5;241;43m=\u001b[39;49m\u001b[38;5;28;43;01mFalse\u001b[39;49;00m\u001b[43m,\u001b[49m\n\u001b[0;32m    492\u001b[0m \u001b[43m        \u001b[49m\u001b[43massert_same_host\u001b[49m\u001b[38;5;241;43m=\u001b[39;49m\u001b[38;5;28;43;01mFalse\u001b[39;49;00m\u001b[43m,\u001b[49m\n\u001b[0;32m    493\u001b[0m \u001b[43m        \u001b[49m\u001b[43mpreload_content\u001b[49m\u001b[38;5;241;43m=\u001b[39;49m\u001b[38;5;28;43;01mFalse\u001b[39;49;00m\u001b[43m,\u001b[49m\n\u001b[0;32m    494\u001b[0m \u001b[43m        \u001b[49m\u001b[43mdecode_content\u001b[49m\u001b[38;5;241;43m=\u001b[39;49m\u001b[38;5;28;43;01mFalse\u001b[39;49;00m\u001b[43m,\u001b[49m\n\u001b[0;32m    495\u001b[0m \u001b[43m        \u001b[49m\u001b[43mretries\u001b[49m\u001b[38;5;241;43m=\u001b[39;49m\u001b[38;5;28;43mself\u001b[39;49m\u001b[38;5;241;43m.\u001b[39;49m\u001b[43mmax_retries\u001b[49m\u001b[43m,\u001b[49m\n\u001b[0;32m    496\u001b[0m \u001b[43m        \u001b[49m\u001b[43mtimeout\u001b[49m\u001b[38;5;241;43m=\u001b[39;49m\u001b[43mtimeout\u001b[49m\u001b[43m,\u001b[49m\n\u001b[0;32m    497\u001b[0m \u001b[43m        \u001b[49m\u001b[43mchunked\u001b[49m\u001b[38;5;241;43m=\u001b[39;49m\u001b[43mchunked\u001b[49m\u001b[43m,\u001b[49m\n\u001b[0;32m    498\u001b[0m \u001b[43m    \u001b[49m\u001b[43m)\u001b[49m\n\u001b[0;32m    500\u001b[0m \u001b[38;5;28;01mexcept\u001b[39;00m (ProtocolError, \u001b[38;5;167;01mOSError\u001b[39;00m) \u001b[38;5;28;01mas\u001b[39;00m err:\n\u001b[0;32m    501\u001b[0m     \u001b[38;5;28;01mraise\u001b[39;00m \u001b[38;5;167;01mConnectionError\u001b[39;00m(err, request\u001b[38;5;241m=\u001b[39mrequest)\n",
      "File \u001b[1;32mc:\\Users\\mcurt\\AppData\\Local\\Programs\\Python\\Python39\\lib\\site-packages\\urllib3\\connectionpool.py:790\u001b[0m, in \u001b[0;36mHTTPConnectionPool.urlopen\u001b[1;34m(self, method, url, body, headers, retries, redirect, assert_same_host, timeout, pool_timeout, release_conn, chunked, body_pos, preload_content, decode_content, **response_kw)\u001b[0m\n\u001b[0;32m    787\u001b[0m response_conn \u001b[38;5;241m=\u001b[39m conn \u001b[38;5;28;01mif\u001b[39;00m \u001b[38;5;129;01mnot\u001b[39;00m release_conn \u001b[38;5;28;01melse\u001b[39;00m \u001b[38;5;28;01mNone\u001b[39;00m\n\u001b[0;32m    789\u001b[0m \u001b[38;5;66;03m# Make the request on the HTTPConnection object\u001b[39;00m\n\u001b[1;32m--> 790\u001b[0m response \u001b[38;5;241m=\u001b[39m \u001b[38;5;28mself\u001b[39m\u001b[38;5;241m.\u001b[39m_make_request(\n\u001b[0;32m    791\u001b[0m     conn,\n\u001b[0;32m    792\u001b[0m     method,\n\u001b[0;32m    793\u001b[0m     url,\n\u001b[0;32m    794\u001b[0m     timeout\u001b[38;5;241m=\u001b[39mtimeout_obj,\n\u001b[0;32m    795\u001b[0m     body\u001b[38;5;241m=\u001b[39mbody,\n\u001b[0;32m    796\u001b[0m     headers\u001b[38;5;241m=\u001b[39mheaders,\n\u001b[0;32m    797\u001b[0m     chunked\u001b[38;5;241m=\u001b[39mchunked,\n\u001b[0;32m    798\u001b[0m     retries\u001b[38;5;241m=\u001b[39mretries,\n\u001b[0;32m    799\u001b[0m     response_conn\u001b[38;5;241m=\u001b[39mresponse_conn,\n\u001b[0;32m    800\u001b[0m     preload_content\u001b[38;5;241m=\u001b[39mpreload_content,\n\u001b[0;32m    801\u001b[0m     decode_content\u001b[38;5;241m=\u001b[39mdecode_content,\n\u001b[0;32m    802\u001b[0m     \u001b[38;5;241m*\u001b[39m\u001b[38;5;241m*\u001b[39mresponse_kw,\n\u001b[0;32m    803\u001b[0m )\n\u001b[0;32m    805\u001b[0m \u001b[38;5;66;03m# Everything went great!\u001b[39;00m\n\u001b[0;32m    806\u001b[0m clean_exit \u001b[38;5;241m=\u001b[39m \u001b[38;5;28;01mTrue\u001b[39;00m\n",
      "File \u001b[1;32mc:\\Users\\mcurt\\AppData\\Local\\Programs\\Python\\Python39\\lib\\site-packages\\urllib3\\connectionpool.py:467\u001b[0m, in \u001b[0;36mHTTPConnectionPool._make_request\u001b[1;34m(self, conn, method, url, body, headers, retries, timeout, chunked, response_conn, preload_content, decode_content, enforce_content_length)\u001b[0m\n\u001b[0;32m    464\u001b[0m \u001b[38;5;28;01mtry\u001b[39;00m:\n\u001b[0;32m    465\u001b[0m     \u001b[38;5;66;03m# Trigger any extra validation we need to do.\u001b[39;00m\n\u001b[0;32m    466\u001b[0m     \u001b[38;5;28;01mtry\u001b[39;00m:\n\u001b[1;32m--> 467\u001b[0m         \u001b[38;5;28;43mself\u001b[39;49m\u001b[38;5;241;43m.\u001b[39;49m\u001b[43m_validate_conn\u001b[49m\u001b[43m(\u001b[49m\u001b[43mconn\u001b[49m\u001b[43m)\u001b[49m\n\u001b[0;32m    468\u001b[0m     \u001b[38;5;28;01mexcept\u001b[39;00m (SocketTimeout, BaseSSLError) \u001b[38;5;28;01mas\u001b[39;00m e:\n\u001b[0;32m    469\u001b[0m         \u001b[38;5;28mself\u001b[39m\u001b[38;5;241m.\u001b[39m_raise_timeout(err\u001b[38;5;241m=\u001b[39me, url\u001b[38;5;241m=\u001b[39murl, timeout_value\u001b[38;5;241m=\u001b[39mconn\u001b[38;5;241m.\u001b[39mtimeout)\n",
      "File \u001b[1;32mc:\\Users\\mcurt\\AppData\\Local\\Programs\\Python\\Python39\\lib\\site-packages\\urllib3\\connectionpool.py:1096\u001b[0m, in \u001b[0;36mHTTPSConnectionPool._validate_conn\u001b[1;34m(self, conn)\u001b[0m\n\u001b[0;32m   1094\u001b[0m \u001b[38;5;66;03m# Force connect early to allow us to validate the connection.\u001b[39;00m\n\u001b[0;32m   1095\u001b[0m \u001b[38;5;28;01mif\u001b[39;00m conn\u001b[38;5;241m.\u001b[39mis_closed:\n\u001b[1;32m-> 1096\u001b[0m     \u001b[43mconn\u001b[49m\u001b[38;5;241;43m.\u001b[39;49m\u001b[43mconnect\u001b[49m\u001b[43m(\u001b[49m\u001b[43m)\u001b[49m\n\u001b[0;32m   1098\u001b[0m \u001b[38;5;28;01mif\u001b[39;00m \u001b[38;5;129;01mnot\u001b[39;00m conn\u001b[38;5;241m.\u001b[39mis_verified:\n\u001b[0;32m   1099\u001b[0m     warnings\u001b[38;5;241m.\u001b[39mwarn(\n\u001b[0;32m   1100\u001b[0m         (\n\u001b[0;32m   1101\u001b[0m             \u001b[38;5;124mf\u001b[39m\u001b[38;5;124m\"\u001b[39m\u001b[38;5;124mUnverified HTTPS request is being made to host \u001b[39m\u001b[38;5;124m'\u001b[39m\u001b[38;5;132;01m{\u001b[39;00mconn\u001b[38;5;241m.\u001b[39mhost\u001b[38;5;132;01m}\u001b[39;00m\u001b[38;5;124m'\u001b[39m\u001b[38;5;124m. \u001b[39m\u001b[38;5;124m\"\u001b[39m\n\u001b[1;32m   (...)\u001b[0m\n\u001b[0;32m   1106\u001b[0m         InsecureRequestWarning,\n\u001b[0;32m   1107\u001b[0m     )\n",
      "File \u001b[1;32mc:\\Users\\mcurt\\AppData\\Local\\Programs\\Python\\Python39\\lib\\site-packages\\urllib3\\connection.py:611\u001b[0m, in \u001b[0;36mHTTPSConnection.connect\u001b[1;34m(self)\u001b[0m\n\u001b[0;32m    609\u001b[0m \u001b[38;5;28;01mdef\u001b[39;00m \u001b[38;5;21mconnect\u001b[39m(\u001b[38;5;28mself\u001b[39m) \u001b[38;5;241m-\u001b[39m\u001b[38;5;241m>\u001b[39m \u001b[38;5;28;01mNone\u001b[39;00m:\n\u001b[0;32m    610\u001b[0m     sock: socket\u001b[38;5;241m.\u001b[39msocket \u001b[38;5;241m|\u001b[39m ssl\u001b[38;5;241m.\u001b[39mSSLSocket\n\u001b[1;32m--> 611\u001b[0m     \u001b[38;5;28mself\u001b[39m\u001b[38;5;241m.\u001b[39msock \u001b[38;5;241m=\u001b[39m sock \u001b[38;5;241m=\u001b[39m \u001b[38;5;28;43mself\u001b[39;49m\u001b[38;5;241;43m.\u001b[39;49m\u001b[43m_new_conn\u001b[49m\u001b[43m(\u001b[49m\u001b[43m)\u001b[49m\n\u001b[0;32m    612\u001b[0m     server_hostname: \u001b[38;5;28mstr\u001b[39m \u001b[38;5;241m=\u001b[39m \u001b[38;5;28mself\u001b[39m\u001b[38;5;241m.\u001b[39mhost\n\u001b[0;32m    613\u001b[0m     tls_in_tls \u001b[38;5;241m=\u001b[39m \u001b[38;5;28;01mFalse\u001b[39;00m\n",
      "File \u001b[1;32mc:\\Users\\mcurt\\AppData\\Local\\Programs\\Python\\Python39\\lib\\site-packages\\urllib3\\connection.py:203\u001b[0m, in \u001b[0;36mHTTPConnection._new_conn\u001b[1;34m(self)\u001b[0m\n\u001b[0;32m    198\u001b[0m \u001b[38;5;250m\u001b[39m\u001b[38;5;124;03m\"\"\"Establish a socket connection and set nodelay settings on it.\u001b[39;00m\n\u001b[0;32m    199\u001b[0m \n\u001b[0;32m    200\u001b[0m \u001b[38;5;124;03m:return: New socket connection.\u001b[39;00m\n\u001b[0;32m    201\u001b[0m \u001b[38;5;124;03m\"\"\"\u001b[39;00m\n\u001b[0;32m    202\u001b[0m \u001b[38;5;28;01mtry\u001b[39;00m:\n\u001b[1;32m--> 203\u001b[0m     sock \u001b[38;5;241m=\u001b[39m \u001b[43mconnection\u001b[49m\u001b[38;5;241;43m.\u001b[39;49m\u001b[43mcreate_connection\u001b[49m\u001b[43m(\u001b[49m\n\u001b[0;32m    204\u001b[0m \u001b[43m        \u001b[49m\u001b[43m(\u001b[49m\u001b[38;5;28;43mself\u001b[39;49m\u001b[38;5;241;43m.\u001b[39;49m\u001b[43m_dns_host\u001b[49m\u001b[43m,\u001b[49m\u001b[43m \u001b[49m\u001b[38;5;28;43mself\u001b[39;49m\u001b[38;5;241;43m.\u001b[39;49m\u001b[43mport\u001b[49m\u001b[43m)\u001b[49m\u001b[43m,\u001b[49m\n\u001b[0;32m    205\u001b[0m \u001b[43m        \u001b[49m\u001b[38;5;28;43mself\u001b[39;49m\u001b[38;5;241;43m.\u001b[39;49m\u001b[43mtimeout\u001b[49m\u001b[43m,\u001b[49m\n\u001b[0;32m    206\u001b[0m \u001b[43m        \u001b[49m\u001b[43msource_address\u001b[49m\u001b[38;5;241;43m=\u001b[39;49m\u001b[38;5;28;43mself\u001b[39;49m\u001b[38;5;241;43m.\u001b[39;49m\u001b[43msource_address\u001b[49m\u001b[43m,\u001b[49m\n\u001b[0;32m    207\u001b[0m \u001b[43m        \u001b[49m\u001b[43msocket_options\u001b[49m\u001b[38;5;241;43m=\u001b[39;49m\u001b[38;5;28;43mself\u001b[39;49m\u001b[38;5;241;43m.\u001b[39;49m\u001b[43msocket_options\u001b[49m\u001b[43m,\u001b[49m\n\u001b[0;32m    208\u001b[0m \u001b[43m    \u001b[49m\u001b[43m)\u001b[49m\n\u001b[0;32m    209\u001b[0m \u001b[38;5;28;01mexcept\u001b[39;00m socket\u001b[38;5;241m.\u001b[39mgaierror \u001b[38;5;28;01mas\u001b[39;00m e:\n\u001b[0;32m    210\u001b[0m     \u001b[38;5;28;01mraise\u001b[39;00m NameResolutionError(\u001b[38;5;28mself\u001b[39m\u001b[38;5;241m.\u001b[39mhost, \u001b[38;5;28mself\u001b[39m, e) \u001b[38;5;28;01mfrom\u001b[39;00m \u001b[38;5;21;01me\u001b[39;00m\n",
      "File \u001b[1;32mc:\\Users\\mcurt\\AppData\\Local\\Programs\\Python\\Python39\\lib\\site-packages\\urllib3\\util\\connection.py:73\u001b[0m, in \u001b[0;36mcreate_connection\u001b[1;34m(address, timeout, source_address, socket_options)\u001b[0m\n\u001b[0;32m     71\u001b[0m \u001b[38;5;28;01mif\u001b[39;00m source_address:\n\u001b[0;32m     72\u001b[0m     sock\u001b[38;5;241m.\u001b[39mbind(source_address)\n\u001b[1;32m---> 73\u001b[0m \u001b[43msock\u001b[49m\u001b[38;5;241;43m.\u001b[39;49m\u001b[43mconnect\u001b[49m\u001b[43m(\u001b[49m\u001b[43msa\u001b[49m\u001b[43m)\u001b[49m\n\u001b[0;32m     74\u001b[0m \u001b[38;5;66;03m# Break explicitly a reference cycle\u001b[39;00m\n\u001b[0;32m     75\u001b[0m err \u001b[38;5;241m=\u001b[39m \u001b[38;5;28;01mNone\u001b[39;00m\n",
      "\u001b[1;31mKeyboardInterrupt\u001b[0m: "
     ]
    }
   ],
   "source": [
    "html = requests.get(BASE_URL + levels[chosen_level])\n",
    "soup = BeautifulSoup(html.text, \"html.parser\")\n",
    "texts = {'grammar': [], 'en': [], 'jp': [], 'hg': []}\n",
    "\n",
    "# num_pages = 1\n",
    "pages = soup.find(\"p\", {\"class\": \"mb-0 mt-1\"})\n",
    "num_pages = int(pages.text[pages.text.index(\"of \")+3:pages.text.index(\"of\")+4])\n",
    "print(num_pages)\n",
    "for p in range(1, num_pages+1):\n",
    "    if p == 1:\n",
    "        link = BASE_URL + levels[chosen_level]\n",
    "    else:\n",
    "        link = BASE_URL + levels[chosen_level] + f\"page/{str(p)}/\"\n",
    "    html = requests.get(link)\n",
    "    soup = BeautifulSoup(html.text, \"html.parser\")\n",
    "\n",
    "    grammar_table = [[a['href'], a['title']] for a in soup.find_all('a', {\"class\": \"jl-link jp\"}, href=True) if a.text]\n",
    "    # print(grammar_table)\n",
    "    for i in range(len(grammar_table)):\n",
    "        if grammar_table[i][1] == \"Learn JLPT N1 Grammar: 敢えて【あえて】(aete) Meaning\":\n",
    "            print(grammar_table[i])\n",
    "        if grammar_table[i][1] == \"Learn JLPT N1 Grammar: あくまでも (akumade mo) Meaning\":\n",
    "            print(grammar_table[i])\n",
    "        \n",
    "        html = requests.get(grammar_table[i][0])\n",
    "        soup = BeautifulSoup(html.text, \"html.parser\")\n",
    "        # if grammar_table[i][1] == \"Learn JLPT N1 Grammar: 敢えて【あえて】(aete) Meaning\":\n",
    "        # print(html.text)\n",
    "        for a in soup.find_all(\"div\", {\"class\": \"example-cont py-5\"}):\n",
    "            if grammar_table[i][1] == \"Learn JLPT N1 Grammar: あくまでも (akumade mo) Meaning\":\n",
    "                print(\"HERE\")\n",
    "            texts['grammar'].append(grammar_table[i][1])\n",
    "            for b in a.descendants:\n",
    "                if grammar_table[i][1] == \"Learn JLPT N1 Grammar: 敢えて【あえて】(aete) Meaning\":\n",
    "                    print(grammar_table[i])\n",
    "                \n",
    "                if b.name == 'p' and len(b['class']) > 1:\n",
    "                    if b['class'][0] == 'm-0' and b['class'][1] == 'jp':\n",
    "                        # print(b['class'])\n",
    "                        # print(b.text)\n",
    "                        texts['jp'].append(b.text)\n",
    "                        if grammar_table[i][1] == \"Learn JLPT N1 Grammar: 敢えて【あえて】(aete) Meaning\":\n",
    "                            print(grammar_table[i])\n",
    "                        \n",
    "\n",
    "                elif b.name == 'div' and len(b['class']) > 1:\n",
    "                    if b['class'][0] == 'alert' and b['class'][1] == 'alert-success':\n",
    "                        texts['hg'].append(b.text)\n",
    "                        if grammar_table[i][1] == \"Learn JLPT N1 Grammar: 敢えて【あえて】(aete) Meaning\":\n",
    "                            print(grammar_table[i])\n",
    "\n",
    "                    elif b['class'][0] == 'alert' and b['class'][1] == 'alert-primary':\n",
    "                        texts['en'].append(b.text)\n",
    "                        if grammar_table[i][1] == \"Learn JLPT N1 Grammar: 敢えて【あえて】(aete) Meaning\":\n",
    "                            print(grammar_table[i])\n",
    "\n",
    "\n",
    "\n"
   ]
  },
  {
   "cell_type": "code",
   "execution_count": 60,
   "metadata": {},
   "outputs": [
    {
     "name": "stdout",
     "output_type": "stream",
     "text": [
      "https://jlptsensei.com/learn-japanese-grammar/%e3%81%82%e3%81%8f%e3%81%be%e3%81%a7%e3%82%82-akumade-mo-meaning/\n",
      "{'Cache-Control': 'private, max-age=0, must-revalidate, no-cache, no-store', 'Content-Encoding': 'gzip', 'Content-Type': 'text/html; charset=UTF-8', 'Date': 'Wed, 02 Oct 2024 08:45:59 UTC', 'Display': 'pub_site_sol', 'Expires': 'Tue, 01 Oct 2024 08:46:00 GMT', 'Host-Header': '8441280b0c35cbc1147f8ba998a563a7', 'Link': '<https://jlptsensei.com/wp-json/>; rel=\"https://api.w.org/\", <https://jlptsensei.com/wp-json/wp/v2/posts/33749>; rel=\"alternate\"; title=\"JSON\"; type=\"application/json\", <https://jlptsensei.com/?p=33749>; rel=shortlink', 'Pagespeed': 'off', 'Response': '200', 'Server': 'nginx', 'Set-Cookie': 'ezoictest=stable; Path=/; Domain=jlptsensei.com; Expires=Wed, 02 Oct 2024 09:20:41 GMT; HttpOnly', 'Vary': 'Accept-Encoding,User-Agent', 'X-Cache-Enabled': 'True', 'X-Ez-Minify-Html': '5.10% 193804 / 204216', 'X-Ezoic-Cdn': 'Hit ed;ed;1cfa1e8cb3d9ebf0b40c9ddaf8d13f3f;1-1-1;JcWwgHSw-O8WWbftA-6CI', 'X-Httpd-Modphp': '1', 'X-Middleton-Display': 'pub_site_sol', 'X-Middleton-Response': '200', 'X-Origin-Cache-Control': '', 'X-Proxy-Cache': 'HIT', 'X-Sol': 'pub_site', 'Transfer-Encoding': 'chunked'}\n",
      "200\n"
     ]
    }
   ],
   "source": [
    "n=1\n",
    "headers = {'user-agent': \"Mozilla/5.0 (Windows NT 10.0; Win64; x64) AppleWebKit/537.36 (KHTML, like Gecko) Chrome/129.0.0.0 Safari/537.36\"}\n",
    "print(grammar_table[n][0])\n",
    "html = requests.get(grammar_table[n][0], headers=headers)\n",
    "print(html.headers)\n",
    "soup = BeautifulSoup(html.text, \"html.parser\")\n",
    "print(html.status_code)\n"
   ]
  },
  {
   "cell_type": "code",
   "execution_count": 61,
   "metadata": {},
   "outputs": [
    {
     "name": "stdout",
     "output_type": "stream",
     "text": [
      "https://jlptsensei.com/learn-japanese-grammar/%e6%a1%88%e3%81%ae%e5%ae%9a-%e3%81%82%e3%82%93%e3%81%ae%e3%81%98%e3%82%87%e3%81%86-an-no-jou-meaning/\n",
      "{'Cache-Control': 'no-store,no-cache,max-age=0', 'Content-Encoding': 'gzip', 'Content-Type': 'text/html', 'Date': 'Wed, 02 Oct 2024 08:51:03 GMT', 'Display': 'staticcontent_sol', 'Expires': 'Thu, 01 Jan 1970 00:00:01 GMT', 'Host-Header': '8441280b0c35cbc1147f8ba998a563a7', 'Pagespeed': 'off', 'Response': '202', 'Server': 'nginx', 'Set-Cookie': 'nevercache-b39818=Y;Max-Age=-1, ezoictest=stable; Path=/; Domain=jlptsensei.com; Expires=Wed, 02 Oct 2024 09:21:03 GMT; HttpOnly', 'Sg-Captcha': 'challenge', 'Vary': 'Accept-Encoding,User-Agent,Origin', 'X-Ez-Minify-Html': '2.03% 290 / 296', 'X-Ezoic-Cdn': 'Miss', 'X-Middleton-Display': 'staticcontent_sol', 'X-Middleton-Response': '202', 'X-Origin-Cache-Control': 'no-store,no-cache,max-age=0', 'X-Proxy-Cache-Info': 'DT:1', 'X-Robots-Tag': 'noindex', 'X-Sol': 'pub_site', 'Transfer-Encoding': 'chunked'}\n",
      "202\n"
     ]
    }
   ],
   "source": [
    "n=2\n",
    "headers = {'user-agent': \"Mozilla/5.0 (Windows NT 10.0; Win64; x64) AppleWebKit/537.36 (KHTML, like Gecko) Chrome/129.0.0.0 Safari/537.36\"}\n",
    "print(grammar_table[n][0])\n",
    "html = requests.get(grammar_table[n][0], headers=headers)\n",
    "print(html.headers)\n",
    "soup = BeautifulSoup(html.text, \"html.parser\")\n",
    "print(html.status_code)"
   ]
  },
  {
   "cell_type": "code",
   "execution_count": 38,
   "metadata": {},
   "outputs": [
    {
     "name": "stdout",
     "output_type": "stream",
     "text": [
      "[['https://jlptsensei.com/learn-japanese-grammar/%e6%95%a2%e3%81%88%e3%81%a6-%e3%81%82%e3%81%88%e3%81%a6-aete-meaning/', 'Learn JLPT N1 Grammar: 敢えて【あえて】(aete) Meaning'], ['https://jlptsensei.com/learn-japanese-grammar/%e3%81%82%e3%81%8f%e3%81%be%e3%81%a7%e3%82%82-akumade-mo-meaning/', 'Learn JLPT N1 Grammar: あくまでも (akumade mo) Meaning'], ['https://jlptsensei.com/learn-japanese-grammar/%e6%a1%88%e3%81%ae%e5%ae%9a-%e3%81%82%e3%82%93%e3%81%ae%e3%81%98%e3%82%87%e3%81%86-an-no-jou-meaning/', 'Learn JLPT N1 Grammar: 案の定 (an no jou) Meaning'], ['https://jlptsensei.com/learn-japanese-grammar/%e3%81%82%e3%82%89%e3%81%8b%e3%81%98%e3%82%81-arakajime-meaning/', 'Learn JLPT N1 Grammar: あらかじめ (arakajime) Meaning'], ['https://jlptsensei.com/learn-japanese-grammar/%e3%81%82%e3%81%a3%e3%81%a6%e3%81%ae-atte-no-meaning/', 'Learn JLPT N1 Grammar: あっての (atte no) Meaning'], ['https://jlptsensei.com/learn-japanese-grammar/%e3%81%b0%e3%81%93%e3%81%9d-ba-koso-meaning/', 'Learn JLPT N1 Grammar: ばこそ (ba koso) Meaning'], ['https://jlptsensei.com/learn-japanese-grammar/%e3%81%b0%e3%81%9d%e3%82%8c%e3%81%be%e3%81%a7%e3%81%a0-%e3%81%9f%e3%82%89%e3%81%9d%e3%82%8c%e3%81%be%e3%81%a7%e3%81%a0-ba-sore-made-da-meaning/', 'Learn JLPT N1 Grammar: ばそれまでだ / たらそれまでだ (ba sore made da / tara sore made da) Meaning'], ['https://jlptsensei.com/learn-japanese-grammar/%e3%81%b9%e3%81%8b%e3%82%89%e3%81%9a-%e3%81%b9%e3%81%8b%e3%82%89%e3%81%96%e3%82%8b-bekarazu-bekarazaru-meaning/', 'Learn JLPT N1 Grammar: べからず / べからざる (bekarazu / bekarazaru) Meaning'], ['https://jlptsensei.com/learn-japanese-grammar/%e3%81%b9%e3%81%8f-beku-meaning/', 'Learn JLPT N1 Grammar: べく (beku) Meaning'], ['https://jlptsensei.com/learn-japanese-grammar/%e3%81%b9%e3%81%8f%e3%82%82%e3%81%aa%e3%81%84-beku-mo-nai-meaning/', 'Learn JLPT N1 Grammar: べくもない (beku mo nai) Meaning'], ['https://jlptsensei.com/learn-japanese-grammar/%e3%81%b9%e3%81%8f%e3%81%97%e3%81%a6-beku-shite-meaning/', 'Learn JLPT N1 Grammar: べくして (beku shite) Meaning'], ['https://jlptsensei.com/learn-japanese-grammar/%e3%81%b3%e3%82%8b-biru-%e3%81%b3%e3%81%9f-bita-%e3%81%b3%e3%81%a6-bite-meaning/', 'Learn JLPT N1 Grammar: びる / びて / びた (biru / bite / bita) Meaning'], ['https://jlptsensei.com/learn-japanese-grammar/%e3%81%b6%e3%82%8a-%e3%81%a3%e3%81%b7%e3%82%8a-buri-ppuri-meaning/', 'Learn JLPT N1 Grammar: ぶり / っぷり (buri / ppuri) Meaning'], ['https://jlptsensei.com/learn-japanese-grammar/%e3%81%b6%e3%82%8b-%e3%81%b6%e3%81%a3%e3%81%a6-%e3%81%b6%e3%81%a3%e3%81%9f-buru-butte-butta-meaning/', 'Learn JLPT N1 Grammar: ぶる / ぶって / ぶった (buru / butte / butta) Meaning'], ['https://jlptsensei.com/learn-japanese-grammar/%e3%81%a0%e3%81%ab-%e3%81%a0%e3%81%ab%e3%81%97%e3%81%aa%e3%81%84-dani-shinai-meaning/', 'Learn JLPT N1 Grammar: だに / だにしない (dani / dani shinai) Meaning'], ['https://jlptsensei.com/learn-japanese-grammar/%e3%81%a0%e3%81%ae%ef%bd%9e%e3%81%a0%e3%81%ae-dano-dano-meaning/', 'Learn JLPT N1 Grammar: だの～だの (dano~dano) Meaning'], ['https://jlptsensei.com/learn-japanese-grammar/%e3%81%a0%e3%82%8d%e3%81%86%e3%81%ab-darou-ni-meaning/', 'Learn JLPT N1 Grammar: だろうに (darou ni) Meaning'], ['https://jlptsensei.com/learn-japanese-grammar/%e3%81%a7%e3%81%82%e3%82%8c-%e3%81%a7%e3%81%82%e3%82%8d%e3%81%86%e3%81%a8-de-are-de-arou-meaning/', 'Learn JLPT N1 Grammar: であれ / であろうと (de are/de arou to) Meaning'], ['https://jlptsensei.com/learn-japanese-grammar/%e3%81%a7%e3%81%82%e3%82%8c%ef%bd%9e%e3%81%a7%e3%81%82%e3%82%8c-de-are-de-are-meaning/', 'Learn JLPT N1 Grammar: であれ～であれ (de are~de are) Meaning'], ['https://jlptsensei.com/learn-japanese-grammar/%e3%81%a7%e3%82%82%e3%81%82%e3%82%8a%ef%bd%9e%e3%81%a7%e3%82%82%e3%81%82%e3%82%8b-demo-ari-demo-aru-meaning/', 'Learn JLPT N1 Grammar: でもあり～でもある (demo ari~demo aru) Meaning'], ['https://jlptsensei.com/learn-japanese-grammar/%e3%81%a7%e3%82%82%e4%bd%95%e3%81%a7%e3%82%82%e3%81%aa%e3%81%84-%e3%81%8f%e3%82%82%e4%bd%95%e3%81%a8%e3%82%82%e3%81%aa%e3%81%84-demo-nan-demo-nai-meaning/', 'Learn JLPT N1 Grammar: でも何でもない / くも何ともない (demo nan demo nai / kumo nan tomo nai) Meaning'], ['https://jlptsensei.com/learn-japanese-grammar/%e3%81%a7%e3%81%aa%e3%81%8f%e3%81%a6%e3%81%aa%e3%82%93%e3%81%a0%e3%82%8d%e3%81%86-denakute-nan-darou-meaning/', 'Learn JLPT N1 Grammar: でなくてなんだろう (denakute nan darou) Meaning'], ['https://jlptsensei.com/learn-japanese-grammar/%e3%81%a7%e3%81%af%e3%81%82%e3%82%8b%e3%81%be%e3%81%84%e3%81%8b-dewa-arumai-ka-meaning/', 'Learn JLPT N1 Grammar: ではあるまいか (dewa arumai ka) Meaning'], ['https://jlptsensei.com/learn-japanese-grammar/%e3%81%a7%e3%81%af%e3%81%82%e3%82%8b%e3%81%be%e3%81%84%e3%81%97-dewa-arumai-shi-meaning/', 'Learn JLPT N1 Grammar: ではあるまいし (dewa arumai shi) Meaning'], ['https://jlptsensei.com/learn-japanese-grammar/%e3%81%a7%e3%81%af%e6%b8%88%e3%81%be%e3%81%aa%e3%81%84-dewa-sumanai-meaning/', 'Learn JLPT N1 Grammar: では済まない (dewa sumanai) Meaning'], ['https://jlptsensei.com/learn-japanese-grammar/%e3%81%a9%e3%81%86%e3%81%ab%e3%82%82%ef%bd%9e%e3%81%aa%e3%81%84-dou-nimo-nai-meaning/', 'Learn JLPT N1 Grammar: どうにも～ない (dou nimo~nai) Meaning'], ['https://jlptsensei.com/learn-japanese-grammar/%e3%81%8c%e6%97%a9%e3%81%84%e3%81%8b-ga-hayai-ka-meaning/', 'Learn JLPT N1 Grammar: が早いか (ga hayai ka) Meaning'], ['https://jlptsensei.com/learn-japanese-grammar/%e3%81%8c-%e3%82%82%ef%bd%9e%e3%81%aa%e3%82%89%ef%bd%9e%e3%82%82%ef%bd%9e%e3%81%a0-ga-mo-nara-mo-da-meaning/', 'Learn JLPT N1 Grammar: が/も～なら、～も～だ (ga/mo~nara, ~mo~da) Meaning'], ['https://jlptsensei.com/learn-japanese-grammar/%e3%81%8c%e3%81%be%e3%81%97%e3%81%84-gamashii-meaning/', 'Learn JLPT N1 Grammar: がましい (gamashii) Meaning'], ['https://jlptsensei.com/learn-japanese-grammar/%e3%81%8c%e3%81%a6%e3%82%89-gatera-meaning/', 'Learn JLPT N1 Grammar: がてら (gatera) Meaning'], ['https://jlptsensei.com/learn-japanese-grammar/%e3%81%94%e3%81%a8%e3%81%8d-%e3%81%94%e3%81%a8%e3%81%8f-%e3%81%94%e3%81%a8%e3%81%97-gotoki-gotoku-gotoshi-meaning/', 'Learn JLPT N1 Grammar: ごとき / ごとく / ごとし (gotoki / gotoku / gotoshi) Meaning'], ['https://jlptsensei.com/learn-japanese-grammar/%e3%81%90%e3%82%8b%e3%81%bf-gurumi-meaning/', 'Learn JLPT N1 Grammar: ぐるみ (gurumi) Meaning'], ['https://jlptsensei.com/learn-japanese-grammar/%e7%be%bd%e7%9b%ae%e3%81%ab%e3%81%aa%e3%82%8b-%e3%81%af%e3%82%81%e3%81%ab%e3%81%aa%e3%82%8b-hame-ni-naru-meaning/', 'Learn JLPT N1 Grammar: 羽目になる (hame ni naru) Meaning'], ['https://jlptsensei.com/learn-japanese-grammar/%e3%81%bb%e3%81%a9%e3%81%ae%e3%81%93%e3%81%a8%e3%81%a7%e3%81%af%e3%81%aa%e3%81%84-hodo-no-koto-dewa-nai-meaning/', 'Learn JLPT N1 Grammar: ほどのことではない (hodo no koto dewa nai) Meaning'], ['https://jlptsensei.com/learn-japanese-grammar/%e3%81%bb%e3%81%86%e3%81%8c%e3%81%be%e3%81%97%e3%81%a0-hou-ga-mashi-da-meaning/', 'Learn JLPT N1 Grammar: ほうがましだ (hou ga mashi da) Meaning'], ['https://jlptsensei.com/learn-japanese-grammar/%e6%94%be%e9%a1%8c-%e3%81%bb%e3%81%86%e3%81%a0%e3%81%84-houdai-meaning/', 'Learn JLPT N1 Grammar: 放題 (houdai) Meaning'], ['https://jlptsensei.com/learn-japanese-grammar/%e3%81%84%e3%81%8b%e3%82%93%e3%81%a0-%e3%81%84%e3%81%8b%e3%82%93%e3%81%a7%e3%81%af-%e3%81%84%e3%81%8b%e3%82%93%e3%81%ab%e3%82%88%e3%81%a3%e3%81%a6%e3%81%af-ikan-dewa-meaning/', 'Learn JLPT N1 Grammar: いかんだ / いかんでは / いかんによっては (ikan da / ikan dewa / ikan ni yotte wa) Meaning'], ['https://jlptsensei.com/learn-japanese-grammar/%e3%81%84%e3%81%8b%e3%82%93%e3%81%ab%e3%81%8b%e3%81%8b%e3%82%8f%e3%82%89%e3%81%9a-%e3%81%84%e3%81%8b%e3%82%93%e3%81%ab%e3%82%88%e3%82%89%e3%81%9a-ikan-ni-kakawarazu-meaning/', 'Learn JLPT N1 Grammar: いかんにかかわらず / いかんによらず / いかんをとわず (ikan ni kakawarazu / ikan ni yorazu / ikan o towazu) Meaning'], ['https://jlptsensei.com/learn-japanese-grammar/%e5%a6%82%e4%bd%95%e3%81%aa%e3%82%8b-%e3%81%84%e3%81%8b%e3%81%aa%e3%82%8b-ikanaru-meaning/', 'Learn JLPT N1 Grammar: いかなる (ikanaru) Meaning'], ['https://jlptsensei.com/learn-japanese-grammar/%e5%a6%82%e4%bd%95%e3%81%ab-%e3%81%84%e3%81%8b%e3%81%ab-ikani-meaning/', 'Learn JLPT N1 Grammar: いかに (ikani) Meaning']]\n",
      "{'grammar': ['Learn JLPT N1 Grammar: あらかじめ (arakajime) Meaning', 'Learn JLPT N1 Grammar: あらかじめ (arakajime) Meaning', 'Learn JLPT N1 Grammar: あらかじめ (arakajime) Meaning', 'Learn JLPT N1 Grammar: あらかじめ (arakajime) Meaning', 'Learn JLPT N1 Grammar: あらかじめ (arakajime) Meaning', 'Learn JLPT N1 Grammar: あらかじめ (arakajime) Meaning', 'Learn JLPT N1 Grammar: あらかじめ (arakajime) Meaning', 'Learn JLPT N1 Grammar: あっての (atte no) Meaning', 'Learn JLPT N1 Grammar: あっての (atte no) Meaning', 'Learn JLPT N1 Grammar: あっての (atte no) Meaning', 'Learn JLPT N1 Grammar: あっての (atte no) Meaning', 'Learn JLPT N1 Grammar: あっての (atte no) Meaning', 'Learn JLPT N1 Grammar: あっての (atte no) Meaning', 'Learn JLPT N1 Grammar: あっての (atte no) Meaning', 'Learn JLPT N1 Grammar: あっての (atte no) Meaning', 'Learn JLPT N1 Grammar: ばこそ (ba koso) Meaning', 'Learn JLPT N1 Grammar: ばこそ (ba koso) Meaning', 'Learn JLPT N1 Grammar: ばこそ (ba koso) Meaning', 'Learn JLPT N1 Grammar: ばこそ (ba koso) Meaning', 'Learn JLPT N1 Grammar: ばこそ (ba koso) Meaning', 'Learn JLPT N1 Grammar: ばこそ (ba koso) Meaning', 'Learn JLPT N1 Grammar: ばこそ (ba koso) Meaning'], 'en': ['Please read the textbook in advance.', 'We have prepared snacks in advance.', 'I searched for an escape route in advance.', 'I will print that document beforehand and bring it with me.', 'We need to take that into account in advance.', 'Please contact us in advance before visiting.', \"I booked a restaurant in advance for the company's year-end party.\", 'Life is dependent on having a healthy body.', 'Please be careful of the language you use around our customers since they are essential for our business.', 'My happiness comes from my family. I wish everyone is able to live healthily without sickness.', \"Our health is essential for our lives. Let's do our best to avoid eating unhealthy foods.\", \"The school depends on the students, so no matter how good the facilities are, even if there are wonderful teachers, it doesn't make sense if students don't come.\", 'I was able to advance so quickly because of the strict guidance of my boss.', 'Since it is a job for customers, we are grateful to the customers who always come to our store.', \"Beauty depends on good health, so I'm against an unreasonable diet.\", 'We could only win because of our teamwork.', 'Because I love my family, I’m not afraid to sacrifice myself.', 'I made my children pay for their own expenses because I think it’s good for them.', 'Only if there are people who acknowledge their efforts will they be motivated.', 'The more busy you are, the better you will be at using your time.', 'You can walk home alone in the middle of the night only if the city is safe.', \"I can't agree to marry him because of my daughter's future.\"], 'jp': ['あらかじめ教科書を読んでください。', '私たちはあらかじめスナックを用意しておきました。', '僕は逃げ道をあらかじめ探しました。', '私はその資料をあらかじめ印刷して持参します。', '私たちはそれをあらかじめ考慮しておく必要がある。', '訪ねていらっしゃる前にあらかじめ連絡してください。', '会社の忘年会のためにあらかじめレストランを予約しました。', '健康な体あっての人生です。', 'お客様あっての仕事だから、言葉遣いに気を付けてください。', '私の幸せは家族あってのものだ。みんな病気をせず元気でいてほしい。', '健康あっての人生だ。不健康なものを食べないように頑張りましょう！', '学生あっての学校ですから、いくら設備が良くても、素晴らしい先生がいても、学生が来なければ意味がない。', '自分がこんなに早く出世できたのは、厳しい上司の指導あってのことです。', 'お客様あっての仕事ですから、いつもご来店いただくお客様には感謝しております。', '健康あっての美しさですから、無理なダイエットには反対です。', '優勝できたのは、チーム全員の協力あればこそだ。', '家族を愛すればこそ、自分が犠牲になることなどは恐れない。', '子供のためを思えばこそ、費用は子ども自身に用意させたのです。', '自分の努力を認めてくれる人がいればこそ、やる気も出てくるというものだ。', '忙しければこそ、時間の使い方が上手になってくるものだ。', '夜中に一人で歩いて帰れるのも、この街が安全であればこそだ。', '娘の将来を思えばこそ、彼との結婚には賛成できない。'], 'hg': ['あらかじめきょうかしょをよんでください。', 'わたしたちはあらかじめスナックをよういしておきました。', 'ぼくはにげみちをあらかじめさがしました。', 'わたしはそのしりょうをあらかじめいんさつしてじさんします。', 'わたしたちはそれをあらかじめこうりょしておくひつようがある。', 'たずねていらっしゃるまえにあらかじめれんらくしてください。', 'かいしゃのぼうねんかいのためにあらかじめレストランをよやくしました。', 'けんこうなからだあってのじんせいです。', 'おきゃくさまあってのしごとだから、ことばづかいにきをつけてください。', 'わたしのしあわせはかぞくあってのものだ。みんなびょうきをせずげんきでいてほしい。', 'けんこうあってのじんせいだ。ふけんこうなものをたべないようにがんばりましょう！', 'がくせいあってのがっこうですから、いくらせつびがよくても、すばらしいせんせいがいても、がくせいがこなければいみがない。', 'じぶんがこんなにはやくしゅっせできたのは、きびしいじょうしのしどうあってのことです。', 'おきゃくさまあってのしごとですから、いつもごらいてんいただくおきゃくさまにはかんしゃしております。', 'けんこうあってのうつくしさですから、むりなダイエットにははんたいです。', 'ゆうしょうできたのは、チームぜんいんのきょうりょくあればこそだ。', 'かぞくをあいすればこそ、じぶんがぎせいになることなどはおそれない。', 'こどものためをおもえばこそ、ひようはこどもじしんによういさせたのです。', 'じぶんのどりょくをみとめてくれる人がいればこそ、やるきもでてくるというものだ。', 'いそがしければこそ、じかんのつかいかたがじょうずになってくるものだ。', 'よなかにひとりであるいてかえれるのも、このまちがあんぜんであればこそだ。', 'むすめのしょうらいをおもえばこそ、かれとのけっこんにはさんせいできない。']}\n"
     ]
    }
   ],
   "source": [
    "print(grammar_table)\n",
    "print(texts)"
   ]
  },
  {
   "cell_type": "code",
   "execution_count": 13,
   "metadata": {},
   "outputs": [
    {
     "name": "stdout",
     "output_type": "stream",
     "text": [
      "Life is dependent on having a healthy body.\n",
      "花見の場所を確保すべく、友達が早朝に公園へ向かった。\n",
      "はなみのばしょをかくほすべく、たもだちがそうちょうにこうえんへむかった。\n",
      "Learn JLPT N1 Grammar: あっての (atte no) Meaning\n",
      "1412\n"
     ]
    }
   ],
   "source": [
    "\n",
    "\n",
    "print(texts['en'][0])\n",
    "print(texts['jp'][20])\n",
    "print(texts['hg'][20])\n",
    "print(texts['grammar'][0])\n",
    "\n",
    "print(len(texts['grammar']))\n",
    "\n",
    "df = pd.DataFrame(columns=[\"grammar\", \"en\", \"jp\", \"hg\"])\n",
    "df[\"grammar\"] = texts[\"grammar\"]\n",
    "df[\"en\"] = texts[\"en\"]\n",
    "df[\"jp\"] = texts[\"jp\"]\n",
    "df[\"hg\"] = texts[\"hg\"]\n",
    "\n",
    "df['id'] = df.groupby(['grammar']).ngroup()\n",
    "\n",
    "df.to_csv(f\"assets/grammar/{chosen_level}.csv\", index=False, header=False)"
   ]
  },
  {
   "cell_type": "markdown",
   "metadata": {},
   "source": [
    "### Word scrape"
   ]
  },
  {
   "cell_type": "code",
   "execution_count": 65,
   "metadata": {},
   "outputs": [
    {
     "name": "stdout",
     "output_type": "stream",
     "text": [
      "2\n"
     ]
    }
   ],
   "source": [
    "BASE_URL = f\"https://jlptsensei.com/jlpt-{chosen_level}-vocabulary-list/\"\n",
    "\n",
    "words_\n",
    "\n",
    "html = requests.get(BASE_URL)\n",
    "soup = BeautifulSoup(html.text, \"html.parser\")\n",
    "\n",
    "pages = soup.find(\"p\", {\"class\": \"mb-0 mt-1\"})\n",
    "num_pages = int(pages.text[pages.text.index(\"of \")+3:pages.text.index(\"of\")+4])\n",
    "print(num_pages)\n",
    "\n",
    "for i in range(1, num_pages+1):\n",
    "    page_url = BASE_URL + f\"page/{i}\"\n",
    "    html = requests.get(page_url)\n",
    "    soup = BeautifulSoup(html.text, \"html.parser\")\n",
    "\n",
    "    for a in soup.find_all(\"div\", {\"class\": \"jl-row\"}):\n",
    "        for b in a.descendants:\n",
    "            if b[\"class\"] == \"jl-td-num align-middle text-center\":\n",
    "\n"
   ]
  },
  {
   "cell_type": "code",
   "execution_count": 81,
   "metadata": {},
   "outputs": [
    {
     "name": "stdout",
     "output_type": "stream",
     "text": [
      "1101010\n",
      "['0', '0', '0']\n",
      "0\n"
     ]
    }
   ],
   "source": [
    "import re\n",
    "num = 106\n",
    "\n",
    "bin = format(num, 'b')\n",
    "print(bin)\n",
    "\n",
    "r = re.compile('0+')\n",
    "seq = ''\n",
    "print(r.findall(bin))\n",
    "for l in r.findall(bin):\n",
    "    if len(l) > len(seq):\n",
    "        seq = l\n",
    "\n",
    "print(seq)\n",
    "\n"
   ]
  }
 ],
 "metadata": {
  "kernelspec": {
   "display_name": "Python 3",
   "language": "python",
   "name": "python3"
  },
  "language_info": {
   "codemirror_mode": {
    "name": "ipython",
    "version": 3
   },
   "file_extension": ".py",
   "mimetype": "text/x-python",
   "name": "python",
   "nbconvert_exporter": "python",
   "pygments_lexer": "ipython3",
   "version": "3.9.0"
  }
 },
 "nbformat": 4,
 "nbformat_minor": 2
}
